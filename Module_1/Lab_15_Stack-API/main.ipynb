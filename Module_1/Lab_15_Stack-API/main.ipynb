{
 "cells": [
  {
   "cell_type": "markdown",
   "metadata": {},
   "source": [
    "# StackAPI\n",
    "\n",
    "#### Import the necessary libraries here:"
   ]
  },
  {
   "cell_type": "code",
   "execution_count": 5,
   "metadata": {},
   "outputs": [
    {
     "name": "stdout",
     "output_type": "stream",
     "text": [
      "Collecting stackapi\n",
      "  Using cached StackAPI-0.2.0.tar.gz (5.6 kB)\n",
      "Requirement already satisfied: requests in c:\\users\\felic\\anaconda3\\envs\\downgrade\\lib\\site-packages (from stackapi) (2.26.0)\n",
      "Requirement already satisfied: six in c:\\users\\felic\\anaconda3\\envs\\downgrade\\lib\\site-packages (from stackapi) (1.16.0)\n",
      "Requirement already satisfied: charset-normalizer~=2.0.0 in c:\\users\\felic\\anaconda3\\envs\\downgrade\\lib\\site-packages (from requests->stackapi) (2.0.4)\n",
      "Requirement already satisfied: idna<4,>=2.5 in c:\\users\\felic\\anaconda3\\envs\\downgrade\\lib\\site-packages (from requests->stackapi) (3.2)\n",
      "Requirement already satisfied: certifi>=2017.4.17 in c:\\users\\felic\\anaconda3\\envs\\downgrade\\lib\\site-packages (from requests->stackapi) (2021.10.8)\n",
      "Requirement already satisfied: urllib3<1.27,>=1.21.1 in c:\\users\\felic\\anaconda3\\envs\\downgrade\\lib\\site-packages (from requests->stackapi) (1.26.7)\n",
      "Building wheels for collected packages: stackapi\n",
      "  Building wheel for stackapi (setup.py): started\n",
      "  Building wheel for stackapi (setup.py): finished with status 'done'\n",
      "  Created wheel for stackapi: filename=StackAPI-0.2.0-py3-none-any.whl size=5856 sha256=362f8afb7f19af5535ea28114d334f05b1085c7f58654859993ff06b0e08c99c\n",
      "  Stored in directory: c:\\users\\felic\\appdata\\local\\pip\\cache\\wheels\\15\\38\\46\\ce92f4ec7e81b3da9b2bae72b572a49a2b1b025cdce325cc01\n",
      "Successfully built stackapi\n",
      "Installing collected packages: stackapi\n",
      "Successfully installed stackapi-0.2.0\n"
     ]
    }
   ],
   "source": [
    "# your code here\n",
    "! pip install stackapi\n"
   ]
  },
  {
   "cell_type": "markdown",
   "metadata": {},
   "source": [
    "#### Question 1: Find the questions and answers of last month."
   ]
  },
  {
   "cell_type": "code",
   "execution_count": 8,
   "metadata": {},
   "outputs": [
    {
     "data": {
      "text/plain": [
       "{'backoff': 0,\n",
       " 'has_more': False,\n",
       " 'page': 1,\n",
       " 'quota_max': 300,\n",
       " 'quota_remaining': 299,\n",
       " 'total': 0,\n",
       " 'items': [{'tags': ['python',\n",
       "    'algorithm',\n",
       "    'optimization',\n",
       "    'time-complexity',\n",
       "    'minimization'],\n",
       "   'owner': {'reputation': 10453,\n",
       "    'user_id': 4056181,\n",
       "    'user_type': 'registered',\n",
       "    'accept_rate': 74,\n",
       "    'profile_image': 'https://i.stack.imgur.com/G0SRK.jpg?s=256&g=1',\n",
       "    'display_name': 'jmd_dk',\n",
       "    'link': 'https://stackoverflow.com/users/4056181/jmd-dk'},\n",
       "   'is_answered': True,\n",
       "   'view_count': 2220,\n",
       "   'accepted_answer_id': 71890278,\n",
       "   'answer_count': 11,\n",
       "   'score': 45,\n",
       "   'last_activity_date': 1650371327,\n",
       "   'creation_date': 1650040471,\n",
       "   'last_edit_date': 1650357883,\n",
       "   'question_id': 71886600,\n",
       "   'content_license': 'CC BY-SA 4.0',\n",
       "   'link': 'https://stackoverflow.com/questions/71886600/algorithm-for-ordering-data-so-that-neighbor-elements-are-as-identical-as-possib',\n",
       "   'title': 'Algorithm for ordering data so that neighbor elements are as identical as possible'},\n",
       "  {'tags': ['python', 'list', 'for-loop', 'vectorization'],\n",
       "   'owner': {'reputation': 535,\n",
       "    'user_id': 14640064,\n",
       "    'user_type': 'registered',\n",
       "    'profile_image': 'https://www.gravatar.com/avatar/632cfd334b15be2caa86e1c701102c19?s=256&d=identicon&r=PG&f=1',\n",
       "    'display_name': 'herdek550',\n",
       "    'link': 'https://stackoverflow.com/users/14640064/herdek550'},\n",
       "   'is_answered': True,\n",
       "   'view_count': 4602,\n",
       "   'accepted_answer_id': 71990529,\n",
       "   'answer_count': 8,\n",
       "   'score': 40,\n",
       "   'last_activity_date': 1651917091,\n",
       "   'creation_date': 1650818561,\n",
       "   'last_edit_date': 1650886957,\n",
       "   'question_id': 71990420,\n",
       "   'content_license': 'CC BY-SA 4.0',\n",
       "   'link': 'https://stackoverflow.com/questions/71990420/how-do-i-efficiently-find-which-elements-of-a-list-are-in-another-list',\n",
       "   'title': 'How do I efficiently find which elements of a list are in another list?'},\n",
       "  {'tags': ['python', 'typeerror', 'f-string'],\n",
       "   'owner': {'reputation': 10011,\n",
       "    'user_id': 1091116,\n",
       "    'user_type': 'registered',\n",
       "    'accept_rate': 67,\n",
       "    'profile_image': 'https://www.gravatar.com/avatar/15098b2b940cacd8b4d07026e01e3102?s=256&d=identicon&r=PG',\n",
       "    'display_name': 'd33tah',\n",
       "    'link': 'https://stackoverflow.com/users/1091116/d33tah'},\n",
       "   'is_answered': True,\n",
       "   'view_count': 1535,\n",
       "   'accepted_answer_id': 71788626,\n",
       "   'answer_count': 2,\n",
       "   'score': 34,\n",
       "   'last_activity_date': 1649424987,\n",
       "   'creation_date': 1649360097,\n",
       "   'last_edit_date': 1649415838,\n",
       "   'question_id': 71787974,\n",
       "   'content_license': 'CC BY-SA 4.0',\n",
       "   'link': 'https://stackoverflow.com/questions/71787974/why-does-x13-formatx-asd-cause-a-typeerror',\n",
       "   'title': 'Why does `&#39;{x[1:3]}&#39;.format(x=&quot;asd&quot;)` cause a TypeError?'},\n",
       "  {'tags': ['python', 'list-comprehension'],\n",
       "   'owner': {'reputation': 1084,\n",
       "    'user_id': 2520359,\n",
       "    'user_type': 'registered',\n",
       "    'accept_rate': 36,\n",
       "    'profile_image': 'https://www.gravatar.com/avatar/39e37edad3117477a08b714d183fabb7?s=256&d=identicon&r=PG',\n",
       "    'display_name': 'Semisonic',\n",
       "    'link': 'https://stackoverflow.com/users/2520359/semisonic'},\n",
       "   'is_answered': True,\n",
       "   'view_count': 1449,\n",
       "   'accepted_answer_id': 71984511,\n",
       "   'answer_count': 6,\n",
       "   'score': 27,\n",
       "   'last_activity_date': 1652178686,\n",
       "   'creation_date': 1650757890,\n",
       "   'last_edit_date': 1652178686,\n",
       "   'question_id': 71984449,\n",
       "   'content_license': 'CC BY-SA 4.0',\n",
       "   'link': 'https://stackoverflow.com/questions/71984449/how-to-add-an-extra-middle-step-into-a-list-comprehension',\n",
       "   'title': 'How to add an extra middle step into a list comprehension?'}]}"
      ]
     },
     "execution_count": 8,
     "metadata": {},
     "output_type": "execute_result"
    }
   ],
   "source": [
    "# your code here\n",
    "SITE = StackAPI('stackoverflow')\n",
    "questions = SITE.fetch('questions', fromdate=1648771200, todate=1652918399,\n",
    "    min=20, tagged='python', sort='votes')\n",
    "questions"
   ]
  },
  {
   "cell_type": "markdown",
   "metadata": {},
   "source": [
    "#### Question 2: Find the most voted question today with at least a score of 5 and tagged with 'python'. "
   ]
  },
  {
   "cell_type": "code",
   "execution_count": null,
   "metadata": {},
   "outputs": [],
   "source": [
    "# your code here\n",
    "questions = SITE.fetch('questions', min=5, sort='votes')\n",
    "questions['items']"
   ]
  },
  {
   "cell_type": "markdown",
   "metadata": {},
   "source": [
    "#### Question 3: Find the answers with id 6784 and 6473."
   ]
  },
  {
   "cell_type": "code",
   "execution_count": null,
   "metadata": {},
   "outputs": [],
   "source": [
    "# your code here\n",
    " answer_id = SITE.fetch('answer_id', ids=[6784, 6473])"
   ]
  }
 ],
 "metadata": {
  "interpreter": {
   "hash": "1a56bfd51a7ea4d9779dd196c931cc5b8660db76377df2c9b235bb6f47bdcad6"
  },
  "kernelspec": {
   "display_name": "Python 3.8.12 ('downgrade')",
   "language": "python",
   "name": "python3"
  },
  "language_info": {
   "codemirror_mode": {
    "name": "ipython",
    "version": 3
   },
   "file_extension": ".py",
   "mimetype": "text/x-python",
   "name": "python",
   "nbconvert_exporter": "python",
   "pygments_lexer": "ipython3",
   "version": "3.8.12"
  }
 },
 "nbformat": 4,
 "nbformat_minor": 2
}
