{
  "nbformat": 4,
  "nbformat_minor": 0,
  "metadata": {
    "colab": {
      "name": "Lab 10 Functional programming.ipynb",
      "provenance": [],
      "collapsed_sections": []
    },
    "kernelspec": {
      "name": "python3",
      "display_name": "Python 3"
    },
    "language_info": {
      "name": "python"
    }
  },
  "cells": [
    {
      "cell_type": "code",
      "execution_count": null,
      "metadata": {
        "id": "-m3IUxC2RiLV"
      },
      "outputs": [],
      "source": [
        ""
      ]
    },
    {
      "cell_type": "markdown",
      "source": [
        "## Consider an array/list of sheep where some sheep may be missing from their place. We need a function that counts the number of sheep present in the array (true means present)."
      ],
      "metadata": {
        "id": "iZYJt2praEoM"
      }
    },
    {
      "cell_type": "code",
      "source": [
        "sheeps= [True,  True,  True,  False,\n",
        "  True,  True,  True,  True ,\n",
        "  True,  False, True,  False,\n",
        "  True,  False, False, True ,\n",
        "  True,  True,  True,  True ,\n",
        "  False, False, True,  True]"
      ],
      "metadata": {
        "id": "cM0xerpGeVAe"
      },
      "execution_count": null,
      "outputs": []
    },
    {
      "cell_type": "code",
      "source": [
        "def sheep_count(sheep_list):\n",
        "  sum_arr = 0\n",
        "  count = len(sheep_list)\n",
        "  for i in sheep_list:\n",
        "    if i == True:\n",
        "        sum_arr= sum_arr + 1\n",
        "    missing = count - sum_arr\n",
        "  return {f'{sum_arr} present in array and {missing} missing'}\n",
        "sheep_count(sheeps)"
      ],
      "metadata": {
        "colab": {
          "base_uri": "https://localhost:8080/"
        },
        "id": "zCebMsY5aLU6",
        "outputId": "0589042b-4bcd-4bd9-f2e0-073ed2de234c"
      },
      "execution_count": null,
      "outputs": [
        {
          "output_type": "execute_result",
          "data": {
            "text/plain": [
              "{'17 present in array and 7 mising'}"
            ]
          },
          "metadata": {},
          "execution_count": 51
        }
      ]
    },
    {
      "cell_type": "code",
      "source": [
        ""
      ],
      "metadata": {
        "id": "PfgWWsM2hpv2"
      },
      "execution_count": null,
      "outputs": []
    },
    {
      "cell_type": "markdown",
      "source": [
        "# Take an array and remove every second element from the array. Always keep the first element and start removing with the next element.\n",
        "\n",
        "Example:\n",
        "\n",
        "[\"Keep\", \"Remove\", \"Keep\", \"Remove\", \"Keep\", ...] --> [\"Keep\", \"Keep\", \"Keep\", ...]\n",
        "\n",
        "None of the arrays will be empty, so you don't have to worry about that!"
      ],
      "metadata": {
        "id": "qoADji0kho0X"
      }
    },
    {
      "cell_type": "code",
      "source": [
        "array=[\"Keep\", \"Remove\", \"Keep\", \"Remove\", \"Keep\"]\n",
        "def remove_function(arr):\n",
        "  n_arr = []\n",
        "  for i in range(len(arr)):\n",
        "    if i%2 == 0:\n",
        "      n_arr.append(arr[i])\n",
        "  return n_arr\n",
        "remove_function(array)"
      ],
      "metadata": {
        "colab": {
          "base_uri": "https://localhost:8080/"
        },
        "id": "Cv4p6eu9hgNE",
        "outputId": "d6376c16-5e2e-4eec-f198-8dddebd39fee"
      },
      "execution_count": null,
      "outputs": [
        {
          "output_type": "execute_result",
          "data": {
            "text/plain": [
              "['Keep', 'Keep', 'Keep']"
            ]
          },
          "metadata": {},
          "execution_count": 54
        }
      ]
    },
    {
      "cell_type": "code",
      "source": [
        ""
      ],
      "metadata": {
        "id": "8QVUeZ62hgJp"
      },
      "execution_count": null,
      "outputs": []
    },
    {
      "cell_type": "code",
      "source": [
        ""
      ],
      "metadata": {
        "id": "O9goxBp6hgE0"
      },
      "execution_count": null,
      "outputs": []
    },
    {
      "cell_type": "markdown",
      "source": [
        "## Welcome. In this kata, you are asked to square every digit of a number and concatenate them.\n",
        "\n",
        "For example, if we run 9119 through the function, 811181 will come out, because 92 is 81 and 12 is 1.\n",
        "\n",
        "Note: The function accepts an integer and returns an integer"
      ],
      "metadata": {
        "id": "OmbGXUrFlHYp"
      }
    },
    {
      "cell_type": "code",
      "source": [
        "def square_dig(num):\n",
        "  new_string = str(num)\n",
        "  output =''\n",
        "  for item in new_string:\n",
        "      digit = (int(item))**2\n",
        "      output+=str(digit)\n",
        "  return int(output)\n",
        "#print(int(output))\n",
        "square_dig(4566)"
      ],
      "metadata": {
        "colab": {
          "base_uri": "https://localhost:8080/"
        },
        "id": "DMcaceeyhgCq",
        "outputId": "2309847d-30ea-4286-d125-bd47badcb74e"
      },
      "execution_count": null,
      "outputs": [
        {
          "output_type": "execute_result",
          "data": {
            "text/plain": [
              "16253636"
            ]
          },
          "metadata": {},
          "execution_count": 57
        }
      ]
    },
    {
      "cell_type": "code",
      "source": [
        ""
      ],
      "metadata": {
        "id": "MZ-OmoS5hf_9"
      },
      "execution_count": null,
      "outputs": []
    },
    {
      "cell_type": "markdown",
      "source": [
        "## Convert number to reversed array of digits\n",
        "Given a random non-negative number, you have to return the digits of this number within an array in reverse order.\n"
      ],
      "metadata": {
        "id": "QrEnTEgQoXLR"
      }
    },
    {
      "cell_type": "code",
      "source": [
        "digit = input('input a number ')\n",
        "new_string = [i for i in (digit)]\n",
        "new_list = reversed(new_string)\n",
        "new_list1 =[]\n",
        "for item in new_list:\n",
        "    new_list1.append(int(item))\n",
        "print(new_list1)\n"
      ],
      "metadata": {
        "colab": {
          "base_uri": "https://localhost:8080/"
        },
        "id": "BXBmCUQxo6xr",
        "outputId": "8ca0e288-dce7-4330-b389-d09ae088761a"
      },
      "execution_count": null,
      "outputs": [
        {
          "output_type": "stream",
          "name": "stdout",
          "text": [
            "input a number 446\n",
            "[6, 4, 4]\n"
          ]
        }
      ]
    },
    {
      "cell_type": "code",
      "source": [
        "def reverse_arr(digit):\n",
        "  new_string = [i for i in (digit)]\n",
        "  new_list = reversed(new_string)\n",
        "  new_list1 =[]\n",
        "  for item in new_list:\n",
        "    new_list1.append(int(item))\n",
        "  return new_list1\n",
        "  print(new_list1)"
      ],
      "metadata": {
        "id": "_NPNv4PUoV-B"
      },
      "execution_count": null,
      "outputs": []
    },
    {
      "cell_type": "code",
      "source": [
        ""
      ],
      "metadata": {
        "id": "b1C7HZhVr8Wt"
      },
      "execution_count": null,
      "outputs": []
    },
    {
      "cell_type": "markdown",
      "source": [
        "## We need a method in the List Class that may count specific digits from a given list of integers. This marked digits will be given in a second list. The method .count_spec_digits()/.countSpecDigits() will accept two arguments, a list of an uncertain amount of integers integers_lists/integersLists (and of an uncertain amount of digits, too) and a second list, digits_list/digitsList that has the specific digits to count which length cannot be be longer than 10 (It's obvious, we've got ten digits). The method will output a list of tuples, each tuple having two elements, the first one will be a digit to count, and second one, its corresponding total frequency in all the integers of the first list. This list of tuples should be ordered with the same order that the digits have in digitsList"
      ],
      "metadata": {
        "id": "bCP8luB1uPMP"
      }
    },
    {
      "cell_type": "code",
      "source": [
        "from collections import Counter\n",
        "integers_list = [1, 1, 2 ,3 ,1 ,2 ,3 ,-4]\n",
        "digits_list = [1, 3,4]\n",
        "def countSpecDigits(integers_list, digits_list):\n",
        "  new_list=[]\n",
        "  list1 = [abs(i) for i in integers_list]\n",
        "  list2 = [str(i) for i in list1]\n",
        "  string=\"\"\n",
        "  for i in list2:\n",
        "    for l in range(len(i)):\n",
        "      string+=i[l]\n",
        "  unit_list =[i for i in string]\n",
        "  for i in digits_list:\n",
        "    x = (i, unit_list.count(str(i)))\n",
        "    new_list.append(x)\n",
        "  return(new_list)\n",
        "\n",
        "countSpecDigits(integers_list, digits_list)"
      ],
      "metadata": {
        "id": "ht7LHv6MuS76",
        "colab": {
          "base_uri": "https://localhost:8080/"
        },
        "outputId": "56d1d39a-9e52-4126-9549-27968415ef49"
      },
      "execution_count": 7,
      "outputs": [
        {
          "output_type": "execute_result",
          "data": {
            "text/plain": [
              "[(1, 3), (3, 2), (4, 1)]"
            ]
          },
          "metadata": {},
          "execution_count": 7
        }
      ]
    }
  ]
}