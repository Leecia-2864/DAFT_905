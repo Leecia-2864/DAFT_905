{
  "nbformat": 4,
  "nbformat_minor": 0,
  "metadata": {
    "colab": {
      "name": "lab11.ipynb",
      "provenance": [],
      "collapsed_sections": []
    },
    "kernelspec": {
      "name": "python3",
      "display_name": "Python 3"
    },
    "language_info": {
      "name": "python"
    }
  },
  "cells": [
    {
      "cell_type": "code",
      "execution_count": null,
      "metadata": {
        "id": "k5rFcIayxRKr"
      },
      "outputs": [],
      "source": [
        "\n",
        "\n"
      ]
    },
    {
      "cell_type": "markdown",
      "source": [
        "# Define a method/function that removes from a given array of integers all the values contained in a second array.\n"
      ],
      "metadata": {
        "id": "hPeBwx2RzMyb"
      }
    },
    {
      "cell_type": "code",
      "source": [
        "arr1 =[1, 1, 2 ,3 ,1 ,2 ,3 ,4]\n",
        "arr2 =[1, 3]\n",
        "new_arr = []"
      ],
      "metadata": {
        "id": "OHFvGo27x0IH"
      },
      "execution_count": null,
      "outputs": []
    },
    {
      "cell_type": "code",
      "source": [
        "def arr(*kwargs):\n",
        "  arr1 =[1, 1, 2 ,3 ,1 ,2 ,3 ,4]\n",
        "  arr2 =[1, 3]\n",
        "  new_arr = []\n",
        "  for i in arr1:\n",
        "    if i not in arr2:\n",
        "      new_arr.append(i)\n",
        "  return new_arr\n",
        "\n",
        "z = arr([5,8,3,2,1])\n",
        "print(z)"
      ],
      "metadata": {
        "colab": {
          "base_uri": "https://localhost:8080/"
        },
        "id": "96uxxsW7zUht",
        "outputId": "c4ae04ef-a01b-4f7d-de0a-fc2a44f1ba53"
      },
      "execution_count": null,
      "outputs": [
        {
          "output_type": "stream",
          "name": "stdout",
          "text": [
            "[2, 2, 4]\n"
          ]
        }
      ]
    },
    {
      "cell_type": "code",
      "source": [
        ""
      ],
      "metadata": {
        "id": "dWTnHR6jzUuj"
      },
      "execution_count": null,
      "outputs": []
    },
    {
      "cell_type": "code",
      "source": [
        ""
      ],
      "metadata": {
        "id": "9JnTC8FOzUxJ"
      },
      "execution_count": null,
      "outputs": []
    },
    {
      "cell_type": "code",
      "source": [
        ""
      ],
      "metadata": {
        "id": "7OP8GfRGzU0Y"
      },
      "execution_count": null,
      "outputs": []
    },
    {
      "cell_type": "markdown",
      "source": [
        "## We need a method in the List Class that may count specific digits from a given list of integers. This marked digits will be given in a second list. The method .count_spec_digits()/.countSpecDigits() will accept two arguments, a list of an uncertain amount of integers integers_lists/integersLists (and of an uncertain amount of digits, too) and a second list, digits_list/digitsList that has the specific digits to count which length cannot be be longer than 10 (It's obvious, we've got ten digits). The method will output a list of tuples, each tuple having two elements, the first one will be a digit to count, and second one, its corresponding total frequency in all the integers of the first list. This list of tuples should be ordered with the same order that the digits have in digitsList\n",
        "\n",
        "Let's see some cases:\n"
      ],
      "metadata": {
        "id": "_KrWAs7uyJnf"
      }
    },
    {
      "cell_type": "code",
      "source": [
        "from collections import Counter\n",
        "def countSpecDigits(integers_list, digits_list):\n",
        "  list_digit_set = \" \".join([str(x) for x in integers_list])\n",
        "  \n",
        "  digit_list_set = \"\".join([str(x) for x in digits_list])\n",
        "  list_digit_set_out = []\n",
        "  for i in list_digit_set:\n",
        "    if i in digit_list_set:\n",
        "      list_digit_set_out.append((i,integers_list.count(i)))\n",
        "  return list_digit_set_out\n",
        "\n",
        "  "
      ],
      "metadata": {
        "id": "u0ZPJjsux0Kq"
      },
      "execution_count": 3,
      "outputs": []
    },
    {
      "cell_type": "code",
      "source": [
        "integers_list = [1, 1, 2 ,3 ,1 ,2 ,3 ,-4]\n",
        "digits_list = [1, 3,4]\n",
        "print(countSpecDigits(integers_list, digits_list))"
      ],
      "metadata": {
        "colab": {
          "base_uri": "https://localhost:8080/"
        },
        "id": "7gqbeOi-L0UB",
        "outputId": "d0178c2c-e51f-405b-8b5b-66565fdfe717"
      },
      "execution_count": 7,
      "outputs": [
        {
          "output_type": "stream",
          "name": "stdout",
          "text": [
            "[('1', 0), ('1', 0), ('3', 0), ('1', 0), ('3', 0), ('4', 0)]\n"
          ]
        }
      ]
    },
    {
      "cell_type": "code",
      "source": [
        "integers_list = [1, 1, 2 ,3 ,1 ,2 ,3 ,-4]\n",
        "list_digit_set = \"\".join([str(x) for x in integers_list])\n",
        "list_digit_set"
      ],
      "metadata": {
        "colab": {
          "base_uri": "https://localhost:8080/",
          "height": 36
        },
        "id": "lNIIKB-2ICiE",
        "outputId": "669573f6-48e3-48c8-9ea7-217883415203"
      },
      "execution_count": 4,
      "outputs": [
        {
          "output_type": "execute_result",
          "data": {
            "text/plain": [
              "'1123123-4'"
            ],
            "application/vnd.google.colaboratory.intrinsic+json": {
              "type": "string"
            }
          },
          "metadata": {},
          "execution_count": 4
        }
      ]
    },
    {
      "cell_type": "code",
      "source": [
        "integers_list = [1, 1, 2 ,3 ,1 ,2 ,3 ,-4]\n",
        "digits_list = [1, 33,4]\n",
        "list_digit_set = set(integers_list)\n",
        "digit_list_set = set(digits_list)\n",
        "print(digit_list_set)\n",
        "list_digit_set_out = []\n",
        "for i in list_digit_set:\n",
        "    if i in digit_list_set:\n",
        "      list_digit_set_out.append((i,integers_list.count(i)))\n",
        "list_digit_set_out"
      ],
      "metadata": {
        "colab": {
          "base_uri": "https://localhost:8080/"
        },
        "id": "Zh__TBaSGxWN",
        "outputId": "85ab97a8-92e8-4b50-afa4-ef6cdbcd58a7"
      },
      "execution_count": 5,
      "outputs": [
        {
          "output_type": "stream",
          "name": "stdout",
          "text": [
            "{1, 4, 33}\n"
          ]
        },
        {
          "output_type": "execute_result",
          "data": {
            "text/plain": [
              "[(1, 3)]"
            ]
          },
          "metadata": {},
          "execution_count": 5
        }
      ]
    },
    {
      "cell_type": "code",
      "source": [
        "list_digit_set =set([str(x) for x in integers_list])\n",
        "t=[]\n",
        "for i in list_digit_set:\n",
        "  t.append(i)\n"
      ],
      "metadata": {
        "id": "WmVvdo_D7-4w"
      },
      "execution_count": null,
      "outputs": []
    },
    {
      "cell_type": "code",
      "source": [
        "\n",
        "integers_list = [1, 1, 2 ,3 ,1 ,2 ,3 ,4]\n",
        "digits_list = [1, 3]\n",
        "list_digit_set = set(integers_list)\n",
        "list_digit_set_out = []\n",
        "for i in list_digit_set:\n",
        "  list_digit_set_out.append((i,integers_list.count(i)))\n",
        "\n",
        "print(list_digit_set_out)\n"
      ],
      "metadata": {
        "colab": {
          "base_uri": "https://localhost:8080/"
        },
        "id": "1VYv9Ciyx0NT",
        "outputId": "c8b21fa6-8fe6-4ff2-fb68-7f9ef3631951"
      },
      "execution_count": 6,
      "outputs": [
        {
          "output_type": "stream",
          "name": "stdout",
          "text": [
            "[(1, 3), (2, 2), (3, 2), (4, 1)]\n"
          ]
        }
      ]
    },
    {
      "cell_type": "code",
      "source": [
        ""
      ],
      "metadata": {
        "id": "A9o7LTgox0Pj"
      },
      "execution_count": null,
      "outputs": []
    },
    {
      "cell_type": "markdown",
      "source": [
        "# Count the number of occurrences of each character and return it as a list of tuples in order of appearance. For empty output return an empty list.\n",
        "\n",
        "Example:"
      ],
      "metadata": {
        "id": "HjucYn6czFCR"
      }
    },
    {
      "cell_type": "code",
      "source": [
        "def ordered_count(string):\n",
        "    #setRemove\n",
        "    list_set=set(string)\n",
        "    #Prepare empty list\n",
        "    list_out=[]\n",
        "    #Use non-repeated traversal loop\n",
        "    for i in list_set:\n",
        "        #Count with raw string\n",
        "        list_out.append((i,string.count(i)))\n",
        "    #Return to list of tuples\n",
        "    return list_out\n",
        "    \n",
        "string='felicia'\n",
        "ordered_count(string)"
      ],
      "metadata": {
        "colab": {
          "base_uri": "https://localhost:8080/"
        },
        "id": "8GG9Y-L_x0R2",
        "outputId": "003d1be9-3a9d-43ac-d426-6f3c2911b16b"
      },
      "execution_count": 8,
      "outputs": [
        {
          "output_type": "execute_result",
          "data": {
            "text/plain": [
              "[('f', 1), ('l', 1), ('i', 2), ('c', 1), ('e', 1), ('a', 1)]"
            ]
          },
          "metadata": {},
          "execution_count": 8
        }
      ]
    },
    {
      "cell_type": "code",
      "source": [
        ""
      ],
      "metadata": {
        "id": "AQoSBaT0x0UB"
      },
      "execution_count": null,
      "outputs": []
    },
    {
      "cell_type": "code",
      "source": [
        "print(list_set)\n",
        "print(list_out)"
      ],
      "metadata": {
        "colab": {
          "base_uri": "https://localhost:8080/"
        },
        "id": "WU9-oLILx0Wb",
        "outputId": "a98fa92e-ad5f-4b78-bfcf-a391b9f2b88b"
      },
      "execution_count": null,
      "outputs": [
        {
          "output_type": "stream",
          "name": "stdout",
          "text": [
            "{'i', 'e', 'l', 'F', 'c', 'a'}\n",
            "[('i', 2), ('e', 1), ('l', 1), ('F', 1), ('c', 1), ('a', 1)]\n"
          ]
        }
      ]
    },
    {
      "cell_type": "code",
      "source": [
        ""
      ],
      "metadata": {
        "id": "fbHffZqex0Y1"
      },
      "execution_count": null,
      "outputs": []
    },
    {
      "cell_type": "code",
      "source": [
        ""
      ],
      "metadata": {
        "id": "WkR1dTCix0bQ"
      },
      "execution_count": null,
      "outputs": []
    },
    {
      "cell_type": "code",
      "source": [
        ""
      ],
      "metadata": {
        "id": "HCMQ83A_x0et"
      },
      "execution_count": null,
      "outputs": []
    }
  ]
}