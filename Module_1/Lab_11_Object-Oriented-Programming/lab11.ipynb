{
  "cells": [
    {
      "cell_type": "code",
      "execution_count": null,
      "metadata": {
        "id": "k5rFcIayxRKr"
      },
      "outputs": [],
      "source": [
        "\n",
        "\n"
      ]
    },
    {
      "cell_type": "markdown",
      "metadata": {
        "id": "hPeBwx2RzMyb"
      },
      "source": [
        "# Define a method/function that removes from a given array of integers all the values contained in a second array.\n"
      ]
    },
    {
      "cell_type": "code",
      "execution_count": null,
      "metadata": {
        "id": "OHFvGo27x0IH"
      },
      "outputs": [],
      "source": [
        "arr1 =[1, 1, 2 ,3 ,1 ,2 ,3 ,4]\n",
        "arr2 =[1, 3]\n",
        "new_arr = []"
      ]
    },
    {
      "cell_type": "code",
      "execution_count": null,
      "metadata": {
        "colab": {
          "base_uri": "https://localhost:8080/"
        },
        "id": "96uxxsW7zUht",
        "outputId": "c4ae04ef-a01b-4f7d-de0a-fc2a44f1ba53"
      },
      "outputs": [
        {
          "name": "stdout",
          "output_type": "stream",
          "text": [
            "[2, 2, 4]\n"
          ]
        }
      ],
      "source": [
        "def arr(*kwargs):\n",
        "  arr1 =[1, 1, 2 ,3 ,1 ,2 ,3 ,4]\n",
        "  arr2 =[1, 3]\n",
        "  new_arr = []\n",
        "  for i in arr1:\n",
        "    if i not in arr2:\n",
        "      new_arr.append(i)\n",
        "  return new_arr\n",
        "\n",
        "z = arr([5,8,3,2,1])\n",
        "print(z)"
      ]
    },
    {
      "cell_type": "code",
      "execution_count": null,
      "metadata": {
        "id": "dWTnHR6jzUuj"
      },
      "outputs": [],
      "source": []
    },
    {
      "cell_type": "code",
      "execution_count": null,
      "metadata": {
        "id": "9JnTC8FOzUxJ"
      },
      "outputs": [],
      "source": []
    },
    {
      "cell_type": "code",
      "execution_count": null,
      "metadata": {
        "id": "7OP8GfRGzU0Y"
      },
      "outputs": [],
      "source": []
    },
    {
      "cell_type": "markdown",
      "metadata": {
        "id": "_KrWAs7uyJnf"
      },
      "source": [
        "## We need a method in the List Class that may count specific digits from a given list of integers. This marked digits will be given in a second list. The method .count_spec_digits()/.countSpecDigits() will accept two arguments, a list of an uncertain amount of integers integers_lists/integersLists (and of an uncertain amount of digits, too) and a second list, digits_list/digitsList that has the specific digits to count which length cannot be be longer than 10 (It's obvious, we've got ten digits). The method will output a list of tuples, each tuple having two elements, the first one will be a digit to count, and second one, its corresponding total frequency in all the integers of the first list. This list of tuples should be ordered with the same order that the digits have in digitsList\n",
        "\n",
        "Let's see some cases:\n"
      ]
    },
    {
      "cell_type": "code",
      "execution_count": 1,
      "metadata": {
        "id": "u0ZPJjsux0Kq"
      },
      "outputs": [
        {
          "data": {
            "text/plain": [
              "[(1, 3), (3, 2), (4, 1)]"
            ]
          },
          "execution_count": 1,
          "metadata": {},
          "output_type": "execute_result"
        }
      ],
      "source": [
        "from collections import Counter\n",
        "integers_list = [1, 1, 2 ,3 ,1 ,2 ,3 ,-4]\n",
        "digits_list = [1, 3,4]\n",
        "def countSpecDigits(integers_list, digits_list):\n",
        "  new_list=[]\n",
        "  list1 = [abs(i) for i in integers_list]\n",
        "  list2 = [str(i) for i in list1]\n",
        "  string=\"\"\n",
        "  for i in list2:\n",
        "    for l in range(len(i)):\n",
        "      string+=i[l]\n",
        "  unit_list =[i for i in string]\n",
        "  for i in digits_list:\n",
        "    x = (i, unit_list.count(str(i)))\n",
        "    new_list.append(x)\n",
        "  return(new_list)\n",
        "\n",
        "countSpecDigits(integers_list, digits_list)\n",
        "\n",
        "  "
      ]
    },
    {
      "cell_type": "code",
      "execution_count": null,
      "metadata": {
        "id": "A9o7LTgox0Pj"
      },
      "outputs": [],
      "source": []
    },
    {
      "cell_type": "markdown",
      "metadata": {
        "id": "HjucYn6czFCR"
      },
      "source": [
        "# Count the number of occurrences of each character and return it as a list of tuples in order of appearance. For empty output return an empty list.\n",
        "\n",
        "Example:"
      ]
    },
    {
      "cell_type": "code",
      "execution_count": 8,
      "metadata": {
        "colab": {
          "base_uri": "https://localhost:8080/"
        },
        "id": "8GG9Y-L_x0R2",
        "outputId": "003d1be9-3a9d-43ac-d426-6f3c2911b16b"
      },
      "outputs": [
        {
          "data": {
            "text/plain": [
              "[('f', 1), ('l', 1), ('i', 2), ('c', 1), ('e', 1), ('a', 1)]"
            ]
          },
          "execution_count": 8,
          "metadata": {},
          "output_type": "execute_result"
        }
      ],
      "source": [
        "def ordered_count(string):\n",
        "    #setRemove\n",
        "    list_set=set(string)\n",
        "    #Prepare empty list\n",
        "    list_out=[]\n",
        "    #Use non-repeated traversal loop\n",
        "    for i in list_set:\n",
        "        #Count with raw string\n",
        "        list_out.append((i,string.count(i)))\n",
        "    #Return to list of tuples\n",
        "    return list_out\n",
        "    \n",
        "string='felicia'\n",
        "ordered_count(string)"
      ]
    },
    {
      "cell_type": "code",
      "execution_count": null,
      "metadata": {
        "id": "AQoSBaT0x0UB"
      },
      "outputs": [],
      "source": []
    },
    {
      "cell_type": "code",
      "execution_count": null,
      "metadata": {
        "colab": {
          "base_uri": "https://localhost:8080/"
        },
        "id": "WU9-oLILx0Wb",
        "outputId": "a98fa92e-ad5f-4b78-bfcf-a391b9f2b88b"
      },
      "outputs": [
        {
          "name": "stdout",
          "output_type": "stream",
          "text": [
            "{'i', 'e', 'l', 'F', 'c', 'a'}\n",
            "[('i', 2), ('e', 1), ('l', 1), ('F', 1), ('c', 1), ('a', 1)]\n"
          ]
        }
      ],
      "source": [
        "print(list_set)\n",
        "print(list_out)"
      ]
    },
    {
      "cell_type": "code",
      "execution_count": null,
      "metadata": {
        "id": "fbHffZqex0Y1"
      },
      "outputs": [],
      "source": []
    },
    {
      "cell_type": "code",
      "execution_count": null,
      "metadata": {
        "id": "WkR1dTCix0bQ"
      },
      "outputs": [],
      "source": []
    },
    {
      "cell_type": "code",
      "execution_count": null,
      "metadata": {
        "id": "HCMQ83A_x0et"
      },
      "outputs": [],
      "source": []
    }
  ],
  "metadata": {
    "colab": {
      "collapsed_sections": [],
      "name": "lab11.ipynb",
      "provenance": []
    },
    "interpreter": {
      "hash": "1a56bfd51a7ea4d9779dd196c931cc5b8660db76377df2c9b235bb6f47bdcad6"
    },
    "kernelspec": {
      "display_name": "Python 3.8.12 ('downgrade')",
      "language": "python",
      "name": "python3"
    },
    "language_info": {
      "codemirror_mode": {
        "name": "ipython",
        "version": 3
      },
      "file_extension": ".py",
      "mimetype": "text/x-python",
      "name": "python",
      "nbconvert_exporter": "python",
      "pygments_lexer": "ipython3",
      "version": "3.8.12"
    }
  },
  "nbformat": 4,
  "nbformat_minor": 0
}
